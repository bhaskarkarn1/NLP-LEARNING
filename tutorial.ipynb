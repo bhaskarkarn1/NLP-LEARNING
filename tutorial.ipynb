{
 "cells": [
  {
   "cell_type": "code",
   "execution_count": 226,
   "id": "5c579e2b",
   "metadata": {},
   "outputs": [],
   "source": [
    "#Basically there's a family where a little boy (Jake) thinks there's a zombie in his closet & his parents are fighting all the time.<br /><br />This movie is slower than a soap opera... and suddenly, Jake decides to become Rambo and kill the zombie.<br /><br />OK, first of all when you're going to make a film you must Decide if its a thriller or a drama! As a drama the movie is watchable. Parents are divorcing & arguing like in real life. And then we have Jake with his closet which totally ruins all the film! I expected to see a BOOGEYMAN similar movie, and instead i watched a drama with some meaningless thriller spots.<br /><br />3 out of 10 just for the well playing parents & descent dialogs. As for the shots with Jake: just ignore them."
   ]
  },
  {
   "cell_type": "code",
   "execution_count": 227,
   "id": "b502ea1b",
   "metadata": {},
   "outputs": [],
   "source": [
    "import numpy as np"
   ]
  },
  {
   "cell_type": "code",
   "execution_count": 228,
   "id": "c5ccfb68",
   "metadata": {},
   "outputs": [],
   "source": [
    "import pandas as pd"
   ]
  },
  {
   "cell_type": "code",
   "execution_count": 229,
   "id": "30d1ea56",
   "metadata": {},
   "outputs": [],
   "source": [
    "df = pd.read_csv('IMDB Dataset.csv')"
   ]
  },
  {
   "cell_type": "code",
   "execution_count": 230,
   "id": "0fb17bf2",
   "metadata": {},
   "outputs": [
    {
     "data": {
      "text/html": [
       "<div>\n",
       "<style scoped>\n",
       "    .dataframe tbody tr th:only-of-type {\n",
       "        vertical-align: middle;\n",
       "    }\n",
       "\n",
       "    .dataframe tbody tr th {\n",
       "        vertical-align: top;\n",
       "    }\n",
       "\n",
       "    .dataframe thead th {\n",
       "        text-align: right;\n",
       "    }\n",
       "</style>\n",
       "<table border=\"1\" class=\"dataframe\">\n",
       "  <thead>\n",
       "    <tr style=\"text-align: right;\">\n",
       "      <th></th>\n",
       "      <th>review</th>\n",
       "      <th>sentiment</th>\n",
       "    </tr>\n",
       "  </thead>\n",
       "  <tbody>\n",
       "    <tr>\n",
       "      <th>0</th>\n",
       "      <td>One of the other reviewers has mentioned that ...</td>\n",
       "      <td>positive</td>\n",
       "    </tr>\n",
       "    <tr>\n",
       "      <th>1</th>\n",
       "      <td>A wonderful little production. &lt;br /&gt;&lt;br /&gt;The...</td>\n",
       "      <td>positive</td>\n",
       "    </tr>\n",
       "    <tr>\n",
       "      <th>2</th>\n",
       "      <td>I thought this was a wonderful way to spend ti...</td>\n",
       "      <td>positive</td>\n",
       "    </tr>\n",
       "    <tr>\n",
       "      <th>3</th>\n",
       "      <td>Basically there's a family where a little boy ...</td>\n",
       "      <td>negative</td>\n",
       "    </tr>\n",
       "    <tr>\n",
       "      <th>4</th>\n",
       "      <td>Petter Mattei's \"Love in the Time of Money\" is...</td>\n",
       "      <td>positive</td>\n",
       "    </tr>\n",
       "  </tbody>\n",
       "</table>\n",
       "</div>"
      ],
      "text/plain": [
       "                                              review sentiment\n",
       "0  One of the other reviewers has mentioned that ...  positive\n",
       "1  A wonderful little production. <br /><br />The...  positive\n",
       "2  I thought this was a wonderful way to spend ti...  positive\n",
       "3  Basically there's a family where a little boy ...  negative\n",
       "4  Petter Mattei's \"Love in the Time of Money\" is...  positive"
      ]
     },
     "execution_count": 230,
     "metadata": {},
     "output_type": "execute_result"
    }
   ],
   "source": [
    "df.head()"
   ]
  },
  {
   "cell_type": "code",
   "execution_count": 231,
   "id": "83e3d1e5",
   "metadata": {},
   "outputs": [
    {
     "data": {
      "text/plain": [
       "(50000, 2)"
      ]
     },
     "execution_count": 231,
     "metadata": {},
     "output_type": "execute_result"
    }
   ],
   "source": [
    "df.shape"
   ]
  },
  {
   "cell_type": "code",
   "execution_count": 232,
   "id": "318d8eb0",
   "metadata": {},
   "outputs": [
    {
     "data": {
      "text/plain": [
       "\"basically there's a family where a little boy (jake) thinks there's a zombie in his closet & his parents are fighting all the time.<br /><br />this movie is slower than a soap opera... and suddenly, jake decides to become rambo and kill the zombie.<br /><br />ok, first of all when you're going to make a film you must decide if its a thriller or a drama! as a drama the movie is watchable. parents are divorcing & arguing like in real life. and then we have jake with his closet which totally ruins all the film! i expected to see a boogeyman similar movie, and instead i watched a drama with some meaningless thriller spots.<br /><br />3 out of 10 just for the well playing parents & descent dialogs. as for the shots with jake: just ignore them.\""
      ]
     },
     "execution_count": 232,
     "metadata": {},
     "output_type": "execute_result"
    }
   ],
   "source": [
    "df['review'][3].lower()"
   ]
  },
  {
   "cell_type": "code",
   "execution_count": 233,
   "id": "1942bd14",
   "metadata": {},
   "outputs": [],
   "source": [
    "df['review']= df['review'].str.lower()"
   ]
  },
  {
   "cell_type": "code",
   "execution_count": 234,
   "id": "367fb62c",
   "metadata": {},
   "outputs": [
    {
     "data": {
      "text/html": [
       "<div>\n",
       "<style scoped>\n",
       "    .dataframe tbody tr th:only-of-type {\n",
       "        vertical-align: middle;\n",
       "    }\n",
       "\n",
       "    .dataframe tbody tr th {\n",
       "        vertical-align: top;\n",
       "    }\n",
       "\n",
       "    .dataframe thead th {\n",
       "        text-align: right;\n",
       "    }\n",
       "</style>\n",
       "<table border=\"1\" class=\"dataframe\">\n",
       "  <thead>\n",
       "    <tr style=\"text-align: right;\">\n",
       "      <th></th>\n",
       "      <th>review</th>\n",
       "      <th>sentiment</th>\n",
       "    </tr>\n",
       "  </thead>\n",
       "  <tbody>\n",
       "    <tr>\n",
       "      <th>0</th>\n",
       "      <td>one of the other reviewers has mentioned that ...</td>\n",
       "      <td>positive</td>\n",
       "    </tr>\n",
       "    <tr>\n",
       "      <th>1</th>\n",
       "      <td>a wonderful little production. &lt;br /&gt;&lt;br /&gt;the...</td>\n",
       "      <td>positive</td>\n",
       "    </tr>\n",
       "    <tr>\n",
       "      <th>2</th>\n",
       "      <td>i thought this was a wonderful way to spend ti...</td>\n",
       "      <td>positive</td>\n",
       "    </tr>\n",
       "    <tr>\n",
       "      <th>3</th>\n",
       "      <td>basically there's a family where a little boy ...</td>\n",
       "      <td>negative</td>\n",
       "    </tr>\n",
       "    <tr>\n",
       "      <th>4</th>\n",
       "      <td>petter mattei's \"love in the time of money\" is...</td>\n",
       "      <td>positive</td>\n",
       "    </tr>\n",
       "    <tr>\n",
       "      <th>...</th>\n",
       "      <td>...</td>\n",
       "      <td>...</td>\n",
       "    </tr>\n",
       "    <tr>\n",
       "      <th>49995</th>\n",
       "      <td>i thought this movie did a down right good job...</td>\n",
       "      <td>positive</td>\n",
       "    </tr>\n",
       "    <tr>\n",
       "      <th>49996</th>\n",
       "      <td>bad plot, bad dialogue, bad acting, idiotic di...</td>\n",
       "      <td>negative</td>\n",
       "    </tr>\n",
       "    <tr>\n",
       "      <th>49997</th>\n",
       "      <td>i am a catholic taught in parochial elementary...</td>\n",
       "      <td>negative</td>\n",
       "    </tr>\n",
       "    <tr>\n",
       "      <th>49998</th>\n",
       "      <td>i'm going to have to disagree with the previou...</td>\n",
       "      <td>negative</td>\n",
       "    </tr>\n",
       "    <tr>\n",
       "      <th>49999</th>\n",
       "      <td>no one expects the star trek movies to be high...</td>\n",
       "      <td>negative</td>\n",
       "    </tr>\n",
       "  </tbody>\n",
       "</table>\n",
       "<p>50000 rows × 2 columns</p>\n",
       "</div>"
      ],
      "text/plain": [
       "                                                  review sentiment\n",
       "0      one of the other reviewers has mentioned that ...  positive\n",
       "1      a wonderful little production. <br /><br />the...  positive\n",
       "2      i thought this was a wonderful way to spend ti...  positive\n",
       "3      basically there's a family where a little boy ...  negative\n",
       "4      petter mattei's \"love in the time of money\" is...  positive\n",
       "...                                                  ...       ...\n",
       "49995  i thought this movie did a down right good job...  positive\n",
       "49996  bad plot, bad dialogue, bad acting, idiotic di...  negative\n",
       "49997  i am a catholic taught in parochial elementary...  negative\n",
       "49998  i'm going to have to disagree with the previou...  negative\n",
       "49999  no one expects the star trek movies to be high...  negative\n",
       "\n",
       "[50000 rows x 2 columns]"
      ]
     },
     "execution_count": 234,
     "metadata": {},
     "output_type": "execute_result"
    }
   ],
   "source": [
    "df"
   ]
  },
  {
   "cell_type": "code",
   "execution_count": 235,
   "id": "51ee44aa",
   "metadata": {},
   "outputs": [],
   "source": [
    "import re\n",
    "\n",
    "def remove_html_tags(text):\n",
    "    pattern = re.compile('<.*?>')\n",
    "    return pattern.sub(r'', text)"
   ]
  },
  {
   "cell_type": "code",
   "execution_count": 236,
   "id": "839a07f6",
   "metadata": {},
   "outputs": [],
   "source": [
    "df['review'] = df['review'].apply(remove_html_tags)"
   ]
  },
  {
   "cell_type": "code",
   "execution_count": 237,
   "id": "15cc93b5",
   "metadata": {},
   "outputs": [
    {
     "name": "stdout",
     "output_type": "stream",
     "text": [
      "a wonderful little production. the filming technique is very unassuming- very old-time-bbc fashion and gives a comforting, and sometimes discomforting, sense of realism to the entire piece. the actors are extremely well chosen- michael sheen not only \"has got all the polari\" but he has all the voices down pat too! you can truly see the seamless editing guided by the references to williams' diary entries, not only is it well worth the watching but it is a terrificly written and performed piece. a masterful production about one of the great master's of comedy and his life. the realism really comes home with the little things: the fantasy of the guard which, rather than use the traditional 'dream' techniques remains solid then disappears. it plays on our knowledge and our senses, particularly with the scenes concerning orton and halliwell and the sets (particularly of their flat with halliwell's murals decorating every surface) are terribly well done.\n"
     ]
    }
   ],
   "source": [
    "print(df['review'][1])"
   ]
  },
  {
   "cell_type": "code",
   "execution_count": 238,
   "id": "222f2557",
   "metadata": {},
   "outputs": [],
   "source": [
    "text1 = \"Check out my travel blog at https://wanderlustdiary.com where I share my adventures from Japan, Italy, and beyond!\"\n",
    "text2 = \"The official documentation is available here: http://docs.python.org/3/. It's the best place to learn about Python basics and advanced features.\"\n",
    "text3 = \"Our latest project is live 🎉 — visit https://github.com/example/repo to see the code and contribute!\"\n",
    "text4 = \"For amazing tech articles, follow my profile on www://medium.com/@techwriter or just search for TechWriter_Insights on Google.\""
   ]
  },
  {
   "cell_type": "code",
   "execution_count": 239,
   "id": "30338340",
   "metadata": {},
   "outputs": [
    {
     "data": {
      "text/plain": [
       "'For amazing tech articles, follow my profile on www://medium.com/@techwriter or just search for TechWriter_Insights on Google.'"
      ]
     },
     "execution_count": 239,
     "metadata": {},
     "output_type": "execute_result"
    }
   ],
   "source": [
    "text4"
   ]
  },
  {
   "cell_type": "code",
   "execution_count": 240,
   "id": "00dfec6c",
   "metadata": {},
   "outputs": [],
   "source": [
    "def remove_url(text):\n",
    "    # Allow optional \"://\" after www\n",
    "    pattern = re.compile(r'(?:https?://|www[.:])\\S+', re.IGNORECASE)\n",
    "    return pattern.sub('', text).strip()\n"
   ]
  },
  {
   "cell_type": "code",
   "execution_count": 241,
   "id": "0de4391f",
   "metadata": {},
   "outputs": [
    {
     "data": {
      "text/plain": [
       "'For amazing tech articles, follow my profile on  or just search for TechWriter_Insights on Google.'"
      ]
     },
     "execution_count": 241,
     "metadata": {},
     "output_type": "execute_result"
    }
   ],
   "source": [
    "remove_url(text4)"
   ]
  },
  {
   "cell_type": "code",
   "execution_count": 242,
   "id": "af0d1cd9",
   "metadata": {},
   "outputs": [],
   "source": [
    "import string"
   ]
  },
  {
   "cell_type": "code",
   "execution_count": 243,
   "id": "3a3d2d5d",
   "metadata": {},
   "outputs": [],
   "source": [
    "exclude = string.punctuation"
   ]
  },
  {
   "cell_type": "code",
   "execution_count": 244,
   "id": "3d93e3b3",
   "metadata": {},
   "outputs": [],
   "source": [
    "def remove_punc(text):\n",
    "    for char in exclude:\n",
    "        text = text.replace(char,'')\n",
    "    return text"
   ]
  },
  {
   "cell_type": "code",
   "execution_count": 245,
   "id": "92f48334",
   "metadata": {},
   "outputs": [],
   "source": [
    "text = 'string. With. Punctuation!?'"
   ]
  },
  {
   "cell_type": "code",
   "execution_count": 246,
   "id": "3e8c4299",
   "metadata": {},
   "outputs": [
    {
     "name": "stdout",
     "output_type": "stream",
     "text": [
      "string With Punctuation\n"
     ]
    }
   ],
   "source": [
    "\n",
    "print(remove_punc(text))\n"
   ]
  },
  {
   "cell_type": "code",
   "execution_count": 247,
   "id": "68a8f11f",
   "metadata": {},
   "outputs": [],
   "source": [
    "def remove_punc1(text):\n",
    "    return text.translate(str.maketrans('', '', exclude)) #quite fast compared to previous one"
   ]
  },
  {
   "cell_type": "code",
   "execution_count": 248,
   "id": "71ecc0b3",
   "metadata": {},
   "outputs": [
    {
     "name": "stdout",
     "output_type": "stream",
     "text": [
      "string With Punctuation\n"
     ]
    }
   ],
   "source": [
    "print(remove_punc1(text))"
   ]
  },
  {
   "cell_type": "code",
   "execution_count": 249,
   "id": "dc8ddca2",
   "metadata": {},
   "outputs": [],
   "source": [
    "# Store the abbreviations in a dictionary\n",
    "chat_words = {\n",
    "    \"A3\": \"Anytime, Anywhere, Anyplace\",\n",
    "    \"ADIH\": \"Another Day In Hell\",\n",
    "    \"AFK\": \"Away From Keyboard\",\n",
    "    \"AFAIK\": \"As Far As I Know\",\n",
    "    \"ASAP\": \"As Soon As Possible\",\n",
    "    \"ASL\": \"Age, Sex, Location\",\n",
    "    \"ATK\": \"At The Keyboard\",\n",
    "    \"ATM\": \"At The Moment\",\n",
    "    \"BAE\": \"Before Anyone Else\",\n",
    "    \"BAK\": \"Back At Keyboard\",\n",
    "    \"BBL\": \"Be Back Later\",\n",
    "    \"BBS\": \"Be Back Soon\",\n",
    "    \"BFN\": \"Bye For Now\",\n",
    "    \"B4N\": \"Bye For Now\",\n",
    "    \"BRB\": \"Be Right Back\",\n",
    "    \"BRUH\": \"Bro\",\n",
    "    \"BRT\": \"Be Right There\",\n",
    "    \"BSAAW\": \"Big Smile And A Wink\",\n",
    "    \"BTW\": \"By The Way\",\n",
    "    \"BWL\": \"Bursting With Laughter\",\n",
    "    \"CSL\": \"Can’t Stop Laughing\",\n",
    "    \"CU\": \"See You\",\n",
    "    \"CUL8R\": \"See You Later\",\n",
    "    \"CYA\": \"See You\",\n",
    "    \"DM\": \"Direct Message\",\n",
    "    \"FAQ\": \"Frequently Asked Questions\",\n",
    "    \"FC\": \"Fingers Crossed\",\n",
    "    \"FIMH\": \"Forever In My Heart\",\n",
    "    \"FOMO\": \"Fear Of Missing Out\",\n",
    "    \"FR\": \"For Real\",\n",
    "    \"FWIW\": \"For What It's Worth\",\n",
    "    \"FYP\": \"For You Page\",\n",
    "    \"FYI\": \"For Your Information\",\n",
    "    \"G9\": \"Genius\",\n",
    "    \"GAL\": \"Get A Life\",\n",
    "    \"GG\": \"Good Game\",\n",
    "    \"GMTA\": \"Great Minds Think Alike\",\n",
    "    \"GN\": \"Good Night\",\n",
    "    \"GOAT\": \"Greatest Of All Time\",\n",
    "    \"GR8\": \"Great!\",\n",
    "    \"HBD\": \"Happy Birthday\",\n",
    "    \"IC\": \"I See\",\n",
    "    \"ICQ\": \"I Seek You\",\n",
    "    \"IDC\": \"I Don’t Care\",\n",
    "    \"IDK\": \"I Don't Know\",\n",
    "    \"IFYP\": \"I Feel Your Pain\",\n",
    "    \"ILU\": \"I Love You\",\n",
    "    \"ILY\": \"I Love You\",\n",
    "    \"IMHO\": \"In My Honest/Humble Opinion\",\n",
    "    \"IMU\": \"I Miss You\",\n",
    "    \"IMO\": \"In My Opinion\",\n",
    "    \"IOW\": \"In Other Words\",\n",
    "    \"IRL\": \"In Real Life\",\n",
    "    \"IYKYK\": \"If You Know, You Know\",\n",
    "    \"JK\": \"Just Kidding\",\n",
    "    \"KISS\": \"Keep It Simple, Stupid\",\n",
    "    \"L\": \"Loss\",\n",
    "    \"L8R\": \"Later\",\n",
    "    \"LDR\": \"Long Distance Relationship\",\n",
    "    \"LMK\": \"Let Me Know\",\n",
    "    \"LMAO\": \"Laughing My A** Off\",\n",
    "    \"LOL\": \"Laughing Out Loud\",\n",
    "    \"LTNS\": \"Long Time No See\",\n",
    "    \"M8\": \"Mate\",\n",
    "    \"MFW\": \"My Face When\",\n",
    "    \"MID\": \"Mediocre\",\n",
    "    \"MRW\": \"My Reaction When\",\n",
    "    \"MTE\": \"My Thoughts Exactly\",\n",
    "    \"NVM\": \"Never Mind\",\n",
    "    \"NRN\": \"No Reply Necessary\",\n",
    "    \"NPC\": \"Non-Player Character\",\n",
    "    \"OIC\": \"Oh I See\",\n",
    "    \"OP\": \"Overpowered\",\n",
    "    \"PITA\": \"Pain In The A**\",\n",
    "    \"POV\": \"Point Of View\",\n",
    "    \"PRT\": \"Party\",\n",
    "    \"PRW\": \"Parents Are Watching\",\n",
    "    \"ROFL\": \"Rolling On The Floor Laughing\",\n",
    "    \"ROFLOL\": \"Rolling On The Floor Laughing Out Loud\",\n",
    "    \"ROTFLMAO\": \"Rolling On The Floor Laughing My A** Off\",\n",
    "    \"RN\": \"Right Now\",\n",
    "    \"SK8\": \"Skate\",\n",
    "    \"STATS\": \"Your Sex And Age\",\n",
    "    \"SUS\": \"Suspicious\",\n",
    "    \"TBH\": \"To Be Honest\",\n",
    "    \"TFW\": \"That Feeling When\",\n",
    "    \"THX\": \"Thank You\",\n",
    "    \"TIME\": \"Tears In My Eyes\",\n",
    "    \"TLDR\": \"Too Long, Didn’t Read\",\n",
    "    \"TNTL\": \"Trying Not To Laugh\",\n",
    "    \"TTFN\": \"Ta-Ta For Now!\",\n",
    "    \"TTYL\": \"Talk To You Later\",\n",
    "    \"U\": \"You\",\n",
    "    \"U2\": \"You Too\",\n",
    "    \"U4E\": \"Yours For Ever\",\n",
    "    \"W\": \"Win\",\n",
    "    \"W8\": \"Wait...\",\n",
    "    \"WB\": \"Welcome Back\",\n",
    "    \"WTF\": \"What The F**k\",\n",
    "    \"WTG\": \"Way To Go!\",\n",
    "    \"WUF\": \"Where Are You From?\",\n",
    "    \"WYD\": \"What You Doing?\",\n",
    "    \"WYWH\": \"Wish You Were Here\",\n",
    "    \"ZZZ\": \"Sleeping, Bored, Tired\"\n",
    "}"
   ]
  },
  {
   "cell_type": "code",
   "execution_count": 250,
   "id": "f3a91d4a",
   "metadata": {},
   "outputs": [
    {
     "data": {
      "text/plain": [
       "{'A3': 'Anytime, Anywhere, Anyplace',\n",
       " 'ADIH': 'Another Day In Hell',\n",
       " 'AFK': 'Away From Keyboard',\n",
       " 'AFAIK': 'As Far As I Know',\n",
       " 'ASAP': 'As Soon As Possible',\n",
       " 'ASL': 'Age, Sex, Location',\n",
       " 'ATK': 'At The Keyboard',\n",
       " 'ATM': 'At The Moment',\n",
       " 'BAE': 'Before Anyone Else',\n",
       " 'BAK': 'Back At Keyboard',\n",
       " 'BBL': 'Be Back Later',\n",
       " 'BBS': 'Be Back Soon',\n",
       " 'BFN': 'Bye For Now',\n",
       " 'B4N': 'Bye For Now',\n",
       " 'BRB': 'Be Right Back',\n",
       " 'BRUH': 'Bro',\n",
       " 'BRT': 'Be Right There',\n",
       " 'BSAAW': 'Big Smile And A Wink',\n",
       " 'BTW': 'By The Way',\n",
       " 'BWL': 'Bursting With Laughter',\n",
       " 'CSL': 'Can’t Stop Laughing',\n",
       " 'CU': 'See You',\n",
       " 'CUL8R': 'See You Later',\n",
       " 'CYA': 'See You',\n",
       " 'DM': 'Direct Message',\n",
       " 'FAQ': 'Frequently Asked Questions',\n",
       " 'FC': 'Fingers Crossed',\n",
       " 'FIMH': 'Forever In My Heart',\n",
       " 'FOMO': 'Fear Of Missing Out',\n",
       " 'FR': 'For Real',\n",
       " 'FWIW': \"For What It's Worth\",\n",
       " 'FYP': 'For You Page',\n",
       " 'FYI': 'For Your Information',\n",
       " 'G9': 'Genius',\n",
       " 'GAL': 'Get A Life',\n",
       " 'GG': 'Good Game',\n",
       " 'GMTA': 'Great Minds Think Alike',\n",
       " 'GN': 'Good Night',\n",
       " 'GOAT': 'Greatest Of All Time',\n",
       " 'GR8': 'Great!',\n",
       " 'HBD': 'Happy Birthday',\n",
       " 'IC': 'I See',\n",
       " 'ICQ': 'I Seek You',\n",
       " 'IDC': 'I Don’t Care',\n",
       " 'IDK': \"I Don't Know\",\n",
       " 'IFYP': 'I Feel Your Pain',\n",
       " 'ILU': 'I Love You',\n",
       " 'ILY': 'I Love You',\n",
       " 'IMHO': 'In My Honest/Humble Opinion',\n",
       " 'IMU': 'I Miss You',\n",
       " 'IMO': 'In My Opinion',\n",
       " 'IOW': 'In Other Words',\n",
       " 'IRL': 'In Real Life',\n",
       " 'IYKYK': 'If You Know, You Know',\n",
       " 'JK': 'Just Kidding',\n",
       " 'KISS': 'Keep It Simple, Stupid',\n",
       " 'L': 'Loss',\n",
       " 'L8R': 'Later',\n",
       " 'LDR': 'Long Distance Relationship',\n",
       " 'LMK': 'Let Me Know',\n",
       " 'LMAO': 'Laughing My A** Off',\n",
       " 'LOL': 'Laughing Out Loud',\n",
       " 'LTNS': 'Long Time No See',\n",
       " 'M8': 'Mate',\n",
       " 'MFW': 'My Face When',\n",
       " 'MID': 'Mediocre',\n",
       " 'MRW': 'My Reaction When',\n",
       " 'MTE': 'My Thoughts Exactly',\n",
       " 'NVM': 'Never Mind',\n",
       " 'NRN': 'No Reply Necessary',\n",
       " 'NPC': 'Non-Player Character',\n",
       " 'OIC': 'Oh I See',\n",
       " 'OP': 'Overpowered',\n",
       " 'PITA': 'Pain In The A**',\n",
       " 'POV': 'Point Of View',\n",
       " 'PRT': 'Party',\n",
       " 'PRW': 'Parents Are Watching',\n",
       " 'ROFL': 'Rolling On The Floor Laughing',\n",
       " 'ROFLOL': 'Rolling On The Floor Laughing Out Loud',\n",
       " 'ROTFLMAO': 'Rolling On The Floor Laughing My A** Off',\n",
       " 'RN': 'Right Now',\n",
       " 'SK8': 'Skate',\n",
       " 'STATS': 'Your Sex And Age',\n",
       " 'SUS': 'Suspicious',\n",
       " 'TBH': 'To Be Honest',\n",
       " 'TFW': 'That Feeling When',\n",
       " 'THX': 'Thank You',\n",
       " 'TIME': 'Tears In My Eyes',\n",
       " 'TLDR': 'Too Long, Didn’t Read',\n",
       " 'TNTL': 'Trying Not To Laugh',\n",
       " 'TTFN': 'Ta-Ta For Now!',\n",
       " 'TTYL': 'Talk To You Later',\n",
       " 'U': 'You',\n",
       " 'U2': 'You Too',\n",
       " 'U4E': 'Yours For Ever',\n",
       " 'W': 'Win',\n",
       " 'W8': 'Wait...',\n",
       " 'WB': 'Welcome Back',\n",
       " 'WTF': 'What The F**k',\n",
       " 'WTG': 'Way To Go!',\n",
       " 'WUF': 'Where Are You From?',\n",
       " 'WYD': 'What You Doing?',\n",
       " 'WYWH': 'Wish You Were Here',\n",
       " 'ZZZ': 'Sleeping, Bored, Tired'}"
      ]
     },
     "execution_count": 250,
     "metadata": {},
     "output_type": "execute_result"
    }
   ],
   "source": [
    "chat_words"
   ]
  },
  {
   "cell_type": "code",
   "execution_count": 251,
   "id": "b5193d24",
   "metadata": {},
   "outputs": [],
   "source": [
    "def chat_conversion(text):\n",
    "    new_text = []\n",
    "    for w in text.split():\n",
    "        if w.upper() in chat_words:\n",
    "            new_text.append(chat_words[w.upper()])\n",
    "        else:\n",
    "            new_text.append(w)\n",
    "    return \" \".join(new_text)"
   ]
  },
  {
   "cell_type": "code",
   "execution_count": 252,
   "id": "6780cebe",
   "metadata": {},
   "outputs": [
    {
     "data": {
      "text/plain": [
       "'In My Honest/Humble Opinion he is the Bro'"
      ]
     },
     "execution_count": 252,
     "metadata": {},
     "output_type": "execute_result"
    }
   ],
   "source": [
    "chat_conversion('IMHO he is the BRUH')"
   ]
  },
  {
   "cell_type": "code",
   "execution_count": 253,
   "id": "630e6016",
   "metadata": {},
   "outputs": [
    {
     "data": {
      "text/plain": [
       "'for your information new delhi is the capital of india'"
      ]
     },
     "execution_count": 253,
     "metadata": {},
     "output_type": "execute_result"
    }
   ],
   "source": [
    "chat_conversion('FYI New Delhi is the Capital of India').lower()"
   ]
  },
  {
   "cell_type": "code",
   "execution_count": 254,
   "id": "62dfa8ae",
   "metadata": {},
   "outputs": [],
   "source": [
    "from textblob import TextBlob"
   ]
  },
  {
   "cell_type": "code",
   "execution_count": 255,
   "id": "98dcfd7d",
   "metadata": {},
   "outputs": [
    {
     "data": {
      "text/plain": [
       "'certain conditions in the market is during several are modified in same manner.'"
      ]
     },
     "execution_count": 255,
     "metadata": {},
     "output_type": "execute_result"
    }
   ],
   "source": [
    "incorrect_text = 'ccertaiin coonditiions iin the markeeet is duriing seveal aree moodifiied in saamee mmanneer.'\n",
    "textBlb = TextBlob(incorrect_text)\n",
    "textBlb.correct().string"
   ]
  },
  {
   "cell_type": "code",
   "execution_count": 256,
   "id": "a1ceafbf",
   "metadata": {},
   "outputs": [],
   "source": [
    "#remove stopwords-\n",
    "from nltk.corpus import stopwords"
   ]
  },
  {
   "cell_type": "code",
   "execution_count": 257,
   "id": "f483977e",
   "metadata": {},
   "outputs": [
    {
     "data": {
      "text/plain": [
       "['a',\n",
       " 'about',\n",
       " 'above',\n",
       " 'after',\n",
       " 'again',\n",
       " 'against',\n",
       " 'ain',\n",
       " 'all',\n",
       " 'am',\n",
       " 'an',\n",
       " 'and',\n",
       " 'any',\n",
       " 'are',\n",
       " 'aren',\n",
       " \"aren't\",\n",
       " 'as',\n",
       " 'at',\n",
       " 'be',\n",
       " 'because',\n",
       " 'been',\n",
       " 'before',\n",
       " 'being',\n",
       " 'below',\n",
       " 'between',\n",
       " 'both',\n",
       " 'but',\n",
       " 'by',\n",
       " 'can',\n",
       " 'couldn',\n",
       " \"couldn't\",\n",
       " 'd',\n",
       " 'did',\n",
       " 'didn',\n",
       " \"didn't\",\n",
       " 'do',\n",
       " 'does',\n",
       " 'doesn',\n",
       " \"doesn't\",\n",
       " 'doing',\n",
       " 'don',\n",
       " \"don't\",\n",
       " 'down',\n",
       " 'during',\n",
       " 'each',\n",
       " 'few',\n",
       " 'for',\n",
       " 'from',\n",
       " 'further',\n",
       " 'had',\n",
       " 'hadn',\n",
       " \"hadn't\",\n",
       " 'has',\n",
       " 'hasn',\n",
       " \"hasn't\",\n",
       " 'have',\n",
       " 'haven',\n",
       " \"haven't\",\n",
       " 'having',\n",
       " 'he',\n",
       " \"he'd\",\n",
       " \"he'll\",\n",
       " 'her',\n",
       " 'here',\n",
       " 'hers',\n",
       " 'herself',\n",
       " \"he's\",\n",
       " 'him',\n",
       " 'himself',\n",
       " 'his',\n",
       " 'how',\n",
       " 'i',\n",
       " \"i'd\",\n",
       " 'if',\n",
       " \"i'll\",\n",
       " \"i'm\",\n",
       " 'in',\n",
       " 'into',\n",
       " 'is',\n",
       " 'isn',\n",
       " \"isn't\",\n",
       " 'it',\n",
       " \"it'd\",\n",
       " \"it'll\",\n",
       " \"it's\",\n",
       " 'its',\n",
       " 'itself',\n",
       " \"i've\",\n",
       " 'just',\n",
       " 'll',\n",
       " 'm',\n",
       " 'ma',\n",
       " 'me',\n",
       " 'mightn',\n",
       " \"mightn't\",\n",
       " 'more',\n",
       " 'most',\n",
       " 'mustn',\n",
       " \"mustn't\",\n",
       " 'my',\n",
       " 'myself',\n",
       " 'needn',\n",
       " \"needn't\",\n",
       " 'no',\n",
       " 'nor',\n",
       " 'not',\n",
       " 'now',\n",
       " 'o',\n",
       " 'of',\n",
       " 'off',\n",
       " 'on',\n",
       " 'once',\n",
       " 'only',\n",
       " 'or',\n",
       " 'other',\n",
       " 'our',\n",
       " 'ours',\n",
       " 'ourselves',\n",
       " 'out',\n",
       " 'over',\n",
       " 'own',\n",
       " 're',\n",
       " 's',\n",
       " 'same',\n",
       " 'shan',\n",
       " \"shan't\",\n",
       " 'she',\n",
       " \"she'd\",\n",
       " \"she'll\",\n",
       " \"she's\",\n",
       " 'should',\n",
       " 'shouldn',\n",
       " \"shouldn't\",\n",
       " \"should've\",\n",
       " 'so',\n",
       " 'some',\n",
       " 'such',\n",
       " 't',\n",
       " 'than',\n",
       " 'that',\n",
       " \"that'll\",\n",
       " 'the',\n",
       " 'their',\n",
       " 'theirs',\n",
       " 'them',\n",
       " 'themselves',\n",
       " 'then',\n",
       " 'there',\n",
       " 'these',\n",
       " 'they',\n",
       " \"they'd\",\n",
       " \"they'll\",\n",
       " \"they're\",\n",
       " \"they've\",\n",
       " 'this',\n",
       " 'those',\n",
       " 'through',\n",
       " 'to',\n",
       " 'too',\n",
       " 'under',\n",
       " 'until',\n",
       " 'up',\n",
       " 've',\n",
       " 'very',\n",
       " 'was',\n",
       " 'wasn',\n",
       " \"wasn't\",\n",
       " 'we',\n",
       " \"we'd\",\n",
       " \"we'll\",\n",
       " \"we're\",\n",
       " 'were',\n",
       " 'weren',\n",
       " \"weren't\",\n",
       " \"we've\",\n",
       " 'what',\n",
       " 'when',\n",
       " 'where',\n",
       " 'which',\n",
       " 'while',\n",
       " 'who',\n",
       " 'whom',\n",
       " 'why',\n",
       " 'will',\n",
       " 'with',\n",
       " 'won',\n",
       " \"won't\",\n",
       " 'wouldn',\n",
       " \"wouldn't\",\n",
       " 'y',\n",
       " 'you',\n",
       " \"you'd\",\n",
       " \"you'll\",\n",
       " 'your',\n",
       " \"you're\",\n",
       " 'yours',\n",
       " 'yourself',\n",
       " 'yourselves',\n",
       " \"you've\"]"
      ]
     },
     "execution_count": 257,
     "metadata": {},
     "output_type": "execute_result"
    }
   ],
   "source": [
    "stopwords.words('english')"
   ]
  },
  {
   "cell_type": "code",
   "execution_count": 258,
   "id": "d4f5611f",
   "metadata": {},
   "outputs": [],
   "source": [
    "def remove_stopwords(text):\n",
    "    new_text = []\n",
    "    \n",
    "    for word in text.split():\n",
    "        if word in stopwords.words('english'):\n",
    "            new_text.append(' ')\n",
    "        else:\n",
    "            new_text.append(word)\n",
    "    x = new_text[:]\n",
    "    new_text.clear()\n",
    "    return \" \".join(x)"
   ]
  },
  {
   "cell_type": "code",
   "execution_count": 259,
   "id": "30ecdf7d",
   "metadata": {},
   "outputs": [
    {
     "data": {
      "text/plain": [
       "'  don’t     list   GPA! Only write     GPA     helps.A 3.2   MIT might   okay   list,     3.2     local lesser-known college might     worth listing       applying   Google, especially   Google doesn’t usually recruit     college.'"
      ]
     },
     "execution_count": 259,
     "metadata": {},
     "output_type": "execute_result"
    }
   ],
   "source": [
    "remove_stopwords(\"you don’t have to list your GPA! Only write down your GPA if it helps.A 3.2 at MIT might be okay to list, but a 3.2 at a local lesser-known college might not be worth listing if you are applying to Google, especially if Google doesn’t usually recruit at your college.\")"
   ]
  },
  {
   "cell_type": "code",
   "execution_count": 260,
   "id": "4f9039d8",
   "metadata": {},
   "outputs": [
    {
     "name": "stdout",
     "output_type": "stream",
     "text": [
      "Python is :fire::cat_face::pouting_cat:\n"
     ]
    }
   ],
   "source": [
    "import emoji\n",
    "print(emoji.demojize('Python is 🔥🐱😾'))"
   ]
  },
  {
   "cell_type": "code",
   "execution_count": 261,
   "id": "6b0d118f",
   "metadata": {},
   "outputs": [
    {
     "data": {
      "text/plain": [
       "['I am going to Delhi',\n",
       " ' I will stay there for 4 days',\n",
       " \"let's hope the trip is great\"]"
      ]
     },
     "execution_count": 261,
     "metadata": {},
     "output_type": "execute_result"
    }
   ],
   "source": [
    "sent1 = \"I am going to Delhi. I will stay there for 4 days.let's hope the trip is great\"\n",
    "sent1.split('.')"
   ]
  },
  {
   "cell_type": "code",
   "execution_count": 262,
   "id": "c5bc5552",
   "metadata": {},
   "outputs": [
    {
     "data": {
      "text/plain": [
       "['I',\n",
       " 'am',\n",
       " 'going',\n",
       " 'to',\n",
       " 'Delhi.',\n",
       " 'I',\n",
       " 'will',\n",
       " 'stay',\n",
       " 'there',\n",
       " 'for',\n",
       " '4',\n",
       " \"days.let's\",\n",
       " 'hope',\n",
       " 'the',\n",
       " 'trip',\n",
       " 'is',\n",
       " 'great']"
      ]
     },
     "execution_count": 262,
     "metadata": {},
     "output_type": "execute_result"
    }
   ],
   "source": [
    "sent2 = \"I am going to Delhi. I will stay there for 4 days.let's hope the trip is great\"\n",
    "sent2.split()"
   ]
  },
  {
   "cell_type": "code",
   "execution_count": 263,
   "id": "7cac238e",
   "metadata": {},
   "outputs": [
    {
     "data": {
      "text/plain": [
       "['I am going to Delhi',\n",
       " ' I will stay there for 4 days',\n",
       " \"let's hope the trip is great\"]"
      ]
     },
     "execution_count": 263,
     "metadata": {},
     "output_type": "execute_result"
    }
   ],
   "source": [
    "sent1 = \"I am going to Delhi? I will stay there for 4 days?let's hope the trip is great\"\n",
    "sent1.split('?')"
   ]
  },
  {
   "cell_type": "code",
   "execution_count": 264,
   "id": "3e373b0e",
   "metadata": {},
   "outputs": [],
   "source": [
    "from nltk.tokenize import word_tokenize,sent_tokenize"
   ]
  },
  {
   "cell_type": "code",
   "execution_count": 265,
   "id": "25518d48",
   "metadata": {},
   "outputs": [
    {
     "name": "stderr",
     "output_type": "stream",
     "text": [
      "[nltk_data] Downloading package punkt to\n",
      "[nltk_data]     /Users/bhaskarkarn/nltk_data...\n",
      "[nltk_data]   Package punkt is already up-to-date!\n"
     ]
    },
    {
     "data": {
      "text/plain": [
       "True"
      ]
     },
     "execution_count": 265,
     "metadata": {},
     "output_type": "execute_result"
    }
   ],
   "source": [
    "import nltk\n",
    "nltk.download('punkt')"
   ]
  },
  {
   "cell_type": "code",
   "execution_count": 266,
   "id": "d5fd46ff",
   "metadata": {},
   "outputs": [
    {
     "name": "stderr",
     "output_type": "stream",
     "text": [
      "[nltk_data] Downloading package punkt to\n",
      "[nltk_data]     /Users/bhaskarkarn/nltk_data...\n",
      "[nltk_data]   Package punkt is already up-to-date!\n"
     ]
    }
   ],
   "source": [
    "import nltk\n",
    "nltk.download('punkt', download_dir='/Users/bhaskarkarn/nltk_data')\n",
    "nltk.data.path.append('/Users/bhaskarkarn/nltk_data')"
   ]
  },
  {
   "cell_type": "code",
   "execution_count": 267,
   "id": "1bd880ad",
   "metadata": {},
   "outputs": [
    {
     "name": "stderr",
     "output_type": "stream",
     "text": [
      "[nltk_data] Downloading package punkt_tab to\n",
      "[nltk_data]     /Users/bhaskarkarn/nltk_data...\n",
      "[nltk_data]   Package punkt_tab is already up-to-date!\n"
     ]
    },
    {
     "data": {
      "text/plain": [
       "True"
      ]
     },
     "execution_count": 267,
     "metadata": {},
     "output_type": "execute_result"
    }
   ],
   "source": [
    "import nltk\n",
    "nltk.download('punkt_tab')  # Download punkt tokenizer"
   ]
  },
  {
   "cell_type": "code",
   "execution_count": 268,
   "id": "822e1d6c",
   "metadata": {},
   "outputs": [],
   "source": [
    "from nltk.tokenize import word_tokenize"
   ]
  },
  {
   "cell_type": "code",
   "execution_count": 269,
   "id": "f7c2565a",
   "metadata": {},
   "outputs": [
    {
     "name": "stdout",
     "output_type": "stream",
     "text": [
      "['I', 'am', 'going', 'to', 'visit', 'Delhi']\n"
     ]
    }
   ],
   "source": [
    "from nltk.tokenize import word_tokenize\n",
    "\n",
    "sent1 = 'I am going to visit Delhi'\n",
    "tokens = word_tokenize(sent1)\n",
    "print(tokens)"
   ]
  },
  {
   "cell_type": "code",
   "execution_count": 270,
   "id": "b838f51b",
   "metadata": {},
   "outputs": [
    {
     "data": {
      "text/plain": [
       "['loreum ipsumvsnvfjnksnvkjnvjkn jknjk jkfnvjksfn jknjk fjkg nsk gjknjk skjk ngkj nskjngjkkn jksngjk nskgjnnkjkjsnjkg njks?oreum ipsumvsnvfjnksnvkjnvjkn jknjk jkfnvjksfn jknjk fjkg nsk gjknjk skjk ngkj nskjngjkkn jksngjk nskgjnnkjkjsnjkg njks?']"
      ]
     },
     "execution_count": 270,
     "metadata": {},
     "output_type": "execute_result"
    }
   ],
   "source": [
    "text = \"loreum ipsumvsnvfjnksnvkjnvjkn jknjk jkfnvjksfn jknjk fjkg nsk gjknjk skjk ngkj nskjngjkkn jksngjk nskgjnnkjkjsnjkg njks?\"\"oreum ipsumvsnvfjnksnvkjnvjkn jknjk jkfnvjksfn jknjk fjkg nsk gjknjk skjk ngkj nskjngjkkn jksngjk nskgjnnkjkjsnjkg njks?\"\n",
    "sent_tokenize(text)"
   ]
  },
  {
   "cell_type": "code",
   "execution_count": 271,
   "id": "fb1c47ef",
   "metadata": {},
   "outputs": [],
   "source": [
    "import spacy"
   ]
  },
  {
   "cell_type": "code",
   "execution_count": 272,
   "id": "a1cddc04",
   "metadata": {},
   "outputs": [],
   "source": [
    "from nltk.stem.porter import PorterStemmer"
   ]
  },
  {
   "cell_type": "code",
   "execution_count": 273,
   "id": "e337b3f2",
   "metadata": {},
   "outputs": [],
   "source": [
    "ps = PorterStemmer()\n",
    "def stem_words(text):\n",
    "    return \" \".join([ps.stem(word) for word in text.split()])"
   ]
  },
  {
   "cell_type": "markdown",
   "id": "0d416fe6",
   "metadata": {},
   "source": [
    "df.head()"
   ]
  },
  {
   "cell_type": "markdown",
   "id": "6bf1e1da",
   "metadata": {},
   "source": []
  }
 ],
 "metadata": {
  "kernelspec": {
   "display_name": "Python 3",
   "language": "python",
   "name": "python3"
  },
  "language_info": {
   "codemirror_mode": {
    "name": "ipython",
    "version": 3
   },
   "file_extension": ".py",
   "mimetype": "text/x-python",
   "name": "python",
   "nbconvert_exporter": "python",
   "pygments_lexer": "ipython3",
   "version": "3.9.6"
  }
 },
 "nbformat": 4,
 "nbformat_minor": 5
}
